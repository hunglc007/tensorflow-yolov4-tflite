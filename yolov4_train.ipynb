{
  "nbformat": 4,
  "nbformat_minor": 0,
  "metadata": {
    "colab": {
      "name": "yolov4-train.ipynb",
      "provenance": [],
      "collapsed_sections": [],
      "toc_visible": true
    },
    "kernelspec": {
      "name": "python3",
      "display_name": "Python 3"
    },
    "accelerator": "GPU"
  },
  "cells": [
    {
      "cell_type": "markdown",
      "metadata": {
        "id": "bFL1YGFgEgYk"
      },
      "source": [
        "# 1. Setup"
      ]
    },
    {
      "cell_type": "markdown",
      "metadata": {
        "id": "UsVxm-hsRweC"
      },
      "source": [
        "## Install Requirements"
      ]
    },
    {
      "cell_type": "code",
      "metadata": {
        "id": "oLAwQ4Y5Bxdn",
        "colab": {
          "base_uri": "https://localhost:8080/"
        },
        "outputId": "f8f96bd1-ced5-453b-e501-082dfc870b14"
      },
      "source": [
        "%%bash\n",
        "\n",
        "pip install tf2_yolov4 easydict"
      ],
      "execution_count": null,
      "outputs": [
        {
          "output_type": "stream",
          "text": [
            "Collecting tf2_yolov4\n",
            "  Downloading https://files.pythonhosted.org/packages/6a/61/24a0aed949afc7715b767160abc241c7cd9e7ae9c34e4f8b42c1d6924e63/tf2_yolov4-0.1.0-py3-none-any.whl\n",
            "Requirement already satisfied: easydict in /usr/local/lib/python3.6/dist-packages (1.9)\n",
            "Collecting tensorflow-addons>=0.9.1\n",
            "  Downloading https://files.pythonhosted.org/packages/b3/f8/d6fca180c123f2851035c4493690662ebdad0849a9059d56035434bff5c9/tensorflow_addons-0.11.2-cp36-cp36m-manylinux2010_x86_64.whl (1.1MB)\n",
            "Requirement already satisfied: click>=6.7 in /usr/local/lib/python3.6/dist-packages (from tf2_yolov4) (7.1.2)\n",
            "Requirement already satisfied: numpy>=1.10 in /usr/local/lib/python3.6/dist-packages (from tf2_yolov4) (1.18.5)\n",
            "Requirement already satisfied: typeguard>=2.7 in /usr/local/lib/python3.6/dist-packages (from tensorflow-addons>=0.9.1->tf2_yolov4) (2.7.1)\n",
            "Installing collected packages: tensorflow-addons, tf2-yolov4\n",
            "  Found existing installation: tensorflow-addons 0.8.3\n",
            "    Uninstalling tensorflow-addons-0.8.3:\n",
            "      Successfully uninstalled tensorflow-addons-0.8.3\n",
            "Successfully installed tensorflow-addons-0.11.2 tf2-yolov4-0.1.0\n"
          ],
          "name": "stdout"
        }
      ]
    },
    {
      "cell_type": "markdown",
      "metadata": {
        "id": "gqgyjWkUQ98p"
      },
      "source": [
        "## Setup Dataset"
      ]
    },
    {
      "cell_type": "code",
      "metadata": {
        "id": "F_bmT3d6Qixq",
        "colab": {
          "base_uri": "https://localhost:8080/"
        },
        "outputId": "cc3a1794-3d0f-48b4-a09f-b3d0ccb0990d"
      },
      "source": [
        "!rm -rf sample_data\n",
        "\n",
        "from google.colab import drive\n",
        "\n",
        "drive.mount('/content/gdrive')"
      ],
      "execution_count": 1,
      "outputs": [
        {
          "output_type": "stream",
          "text": [
            "Mounted at /content/gdrive\n"
          ],
          "name": "stdout"
        }
      ]
    },
    {
      "cell_type": "code",
      "metadata": {
        "id": "q4COR-rw7j0i"
      },
      "source": [
        "%%bash\n",
        "\n",
        "if [ ! -f \"yolov4.weights\" ]; then\n",
        "    cp \"./gdrive/My Drive/Colab Data/yolov4/yolov4.weights\" .\n",
        "    cp \"./gdrive/My Drive/Colab Data/yolov4/yolov4-tiny.weights\" .\n",
        "fi"
      ],
      "execution_count": 2,
      "outputs": []
    },
    {
      "cell_type": "code",
      "metadata": {
        "id": "-cVASumcXfkt",
        "colab": {
          "base_uri": "https://localhost:8080/"
        },
        "outputId": "355da95c-ef37-417c-f877-cf1760c0062f"
      },
      "source": [
        "!pwd"
      ],
      "execution_count": 3,
      "outputs": [
        {
          "output_type": "stream",
          "text": [
            "/content\n"
          ],
          "name": "stdout"
        }
      ]
    },
    {
      "cell_type": "code",
      "metadata": {
        "id": "CBBuIHBWWvzf",
        "colab": {
          "base_uri": "https://localhost:8080/"
        },
        "outputId": "decb6ebb-731d-4a1f-b05f-a277dadb1919"
      },
      "source": [
        "!ls"
      ],
      "execution_count": 4,
      "outputs": [
        {
          "output_type": "stream",
          "text": [
            "gdrive\tyolov4-tiny.weights  yolov4.weights\n"
          ],
          "name": "stdout"
        }
      ]
    },
    {
      "cell_type": "markdown",
      "metadata": {
        "id": "HyveRY7yN1eT"
      },
      "source": [
        "<br/><br/>\n",
        "\n",
        "# 2. Training"
      ]
    },
    {
      "cell_type": "markdown",
      "metadata": {
        "id": "dcTST4TG8piZ"
      },
      "source": [
        "## Refresh Code"
      ]
    },
    {
      "cell_type": "code",
      "metadata": {
        "colab": {
          "base_uri": "https://localhost:8080/"
        },
        "id": "4GedYAw2X6HM",
        "outputId": "4ad185aa-de98-41a5-e5f1-6350b564a1d8"
      },
      "source": [
        "%%bash\n",
        "\n",
        "if [ -d \"yoloaim\" ]; then\n",
        "    rm -rf yoloaim\n",
        "fi\n",
        "\n",
        "\n",
        "if [ -d \"core\" ]; then\n",
        "    rm -rf core\n",
        "fi\n",
        "\n",
        "\n",
        "if [ -d \"data\" ]; then\n",
        "    rm -rf data\n",
        "fi\n",
        "\n",
        "if [ -d \"scripts\" ]; then\n",
        "    rm -rf scripts\n",
        "fi\n",
        "\n",
        "if [ -f \"save_model.py\" ]; then\n",
        "    rm save_model.py\n",
        "fi\n",
        "\n",
        "if [ -f \"detect.py\" ]; then\n",
        "    rm detect.py\n",
        "fi\n",
        "\n",
        "if [ -f \"detectvideo.py\" ]; then\n",
        "    rm detectvideo.py\n",
        "fi\n",
        "\n",
        "if [ -f \"train.py\" ]; then\n",
        "    rm train.py\n",
        "fi\n",
        "\n",
        "\n",
        "if [ ! -d \"yolov4\" ]; then\n",
        "    git clone https://github.com/the-robot/yoloaim.git\n",
        "    cp -R yoloaim/core .\n",
        "    cp -R yoloaim/data .\n",
        "    cp -R yoloaim/scripts .\n",
        "    cp -R yoloaim/train.py .\n",
        "    cp -R yoloaim/save_model.py .\n",
        "    cp -R yoloaim/detect.py .\n",
        "    cp -R yoloaim/detectvideo.py .\n",
        "    rm -rf yoloaim\n",
        "fi"
      ],
      "execution_count": 5,
      "outputs": [
        {
          "output_type": "stream",
          "text": [
            "Cloning into 'yoloaim'...\n"
          ],
          "name": "stderr"
        }
      ]
    },
    {
      "cell_type": "code",
      "metadata": {
        "id": "V4BTtccHbnz8"
      },
      "source": [
        "!python train.py --image_path_prefix=\"./data\" --weights=\"./yolov4-tiny.weights\" --tiny=true --print_per_epoch=250"
      ],
      "execution_count": null,
      "outputs": []
    },
    {
      "cell_type": "code",
      "metadata": {
        "id": "6QRIYwU7R038"
      },
      "source": [
        "\n",
        "!python save_model.py --weights = checkpoints/yolov4"
      ],
      "execution_count": null,
      "outputs": []
    },
    {
      "cell_type": "code",
      "metadata": {
        "id": "KggWVFB-4zk2"
      },
      "source": [
        "!zip -r checkpoints_saves.zip checkpoints"
      ],
      "execution_count": null,
      "outputs": []
    },
    {
      "cell_type": "code",
      "metadata": {
        "id": "syls2qd8NRtT"
      },
      "source": [
        "!python detect.py --image csgo4.jpg --output csgo4-yolo.jpg"
      ],
      "execution_count": null,
      "outputs": []
    },
    {
      "cell_type": "code",
      "metadata": {
        "id": "0UoXWnSgXxQ3"
      },
      "source": [
        "!python detectvideo.py"
      ],
      "execution_count": null,
      "outputs": []
    },
    {
      "cell_type": "code",
      "metadata": {
        "id": "rzg-kwtMsC5z"
      },
      "source": [
        ""
      ],
      "execution_count": null,
      "outputs": []
    }
  ]
}